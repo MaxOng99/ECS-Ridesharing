{
 "cells": [
  {
   "cell_type": "code",
   "execution_count": 1,
   "source": [
    "import igraph as ig\n",
    "from haversine import haversine, Unit\n",
    "import pandas as pd\n",
    "import seaborn as sns\n",
    "import matplotlib.pyplot as plt\n",
    "import geopandas\n",
    "\n",
    "dataset_path = \"../dataset\""
   ],
   "outputs": [],
   "metadata": {}
  },
  {
   "cell_type": "markdown",
   "source": [],
   "metadata": {}
  },
  {
   "cell_type": "markdown",
   "source": [
    "## Helper Classes"
   ],
   "metadata": {}
  },
  {
   "cell_type": "code",
   "execution_count": 11,
   "source": [
    "class DatasetGraphGenerator:\n",
    "\n",
    "    def __init__(self, naptan_dataset_path, graph_params) -> None:\n",
    "        self.dataset_path = naptan_dataset_path\n",
    "        self.graph_params = graph_params\n",
    "        self.igraph = None\n",
    "        self.df = None\n",
    "        self.generate_graph()\n",
    "\n",
    "    def generate_graph(self) -> ig.Graph:\n",
    "        df = pd.read_csv(self.dataset_path)\n",
    "        filtered_df = df[df['LocalityName'] == \"Westminster\"]\n",
    "        filtered_df = df[[\"NaptanCode\", \"CommonName\", \"LocalityName\", \"Longitude\", \"Latitude\"]]\n",
    "        # sampled_df = filtered_df.sample(n=self.params['num_locations'])#\n",
    "        sampled_df = filtered_df\n",
    "        self.df = sampled_df\n",
    "        \n",
    "        igraph = ig.Graph.Full(n=sampled_df.size, loops=False)\n",
    "        igraph.vs['location_id'] = list(sampled_df[\"NaptanCode\"])\n",
    "        igraph.vs[\"coordinate\"] = list(zip(sampled_df[\"Latitude\"], sampled_df[\"Longitude\"]))\n",
    "        igraph.vs[\"common_name\"] = list(sampled_df[\"CommonName\"])\n",
    "        for edge in igraph.es:\n",
    "            source_vertex = igraph.vs[edge.source]\n",
    "            target_vertex = igraph.vs[edge.target]\n",
    "            \n",
    "            source_coordinates = source_vertex[\"coordinate\"]\n",
    "            target_coordinate = target_vertex[\"coordinate\"]\n",
    "            distance = haversine(source_coordinates, target_coordinate, unit=Unit.METERS)\n",
    "\n",
    "            travel_time = distance / 19.76\n",
    "            edge[\"distance\"] = distance\n",
    "            edge[\"travel_time\"] = travel_time\n",
    "        \n",
    "        self.igraph = igraph"
   ],
   "outputs": [],
   "metadata": {}
  },
  {
   "cell_type": "markdown",
   "source": [
    "## Helper Functions"
   ],
   "metadata": {}
  },
  {
   "cell_type": "code",
   "execution_count": 68,
   "source": [
    "from shapely.geometry.multipolygon import MultiPolygon\n",
    "from shapely import wkt\n",
    "\n",
    "def plot(df):\n",
    "    fp = \"../dataset/statistical-gis-boundaries-london/ESRI/London_Borough_Excluding_MHW.shp\"\n",
    "    map_df = geopandas.read_file(fp)\n",
    "    multi_poly = MultiPolygon(list(map_df['geometry']))\n",
    "    map_df['geometry'] = geopandas.GeoSeries(multi_poly)\n",
    "    \n",
    "    # check data type so we can see that this is not a normal dataframe, but a GEOdataframe\n",
    "\n",
    "    gdf = geopandas.GeoDataFrame(df, geometry=geopandas.points_from_xy(df.Longitude, df.Latitude))\n",
    "    map_df.plot(ax=gdf.plot())\n",
    "    plt.show()\n",
    "\n"
   ],
   "outputs": [],
   "metadata": {}
  },
  {
   "cell_type": "code",
   "execution_count": 69,
   "source": [
    "graph_generator = DatasetGraphGenerator(f\"{dataset_path}/westminster_hackney_stops.csv\", None)\n",
    "plot(graph_generator.df)\n"
   ],
   "outputs": [
    {
     "output_type": "display_data",
     "data": {
      "image/png": "[encoded data removed]",
      "text/plain": [
       "<Figure size 432x288 with 1 Axes>"
      ]
     },
     "metadata": {
      "needs_background": "light"
     }
    }
   ],
   "metadata": {}
  },
  {
   "cell_type": "code",
   "execution_count": null,
   "source": [],
   "outputs": [],
   "metadata": {}
  }
 ],
 "metadata": {
  "orig_nbformat": 4,
  "language_info": {
   "name": "python",
   "version": "3.8.10",
   "mimetype": "text/x-python",
   "codemirror_mode": {
    "name": "ipython",
    "version": 3
   },
   "pygments_lexer": "ipython3",
   "nbconvert_exporter": "python",
   "file_extension": ".py"
  },
  "kernelspec": {
   "name": "python3",
   "display_name": "Python 3.8.10 64-bit ('ride_sharing': venv)"
  },
  "interpreter": {
   "hash": "2b93332d2db001e6458652b2aa2cc341666d20115b163e2e85cf31ca3fe0b700"
  }
 },
 "nbformat": 4,
 "nbformat_minor": 2
}